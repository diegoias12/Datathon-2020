{
 "cells": [
  {
   "cell_type": "code",
   "execution_count": 1,
   "metadata": {},
   "outputs": [],
   "source": [
    "import numpy as np\n",
    "import pandas as pd"
   ]
  },
  {
   "cell_type": "code",
   "execution_count": 2,
   "metadata": {},
   "outputs": [],
   "source": [
    "df = pd.read_csv('authorships.csv')"
   ]
  },
  {
   "cell_type": "code",
   "execution_count": 3,
   "metadata": {},
   "outputs": [
    {
     "data": {
      "text/html": [
       "<div>\n",
       "<style scoped>\n",
       "    .dataframe tbody tr th:only-of-type {\n",
       "        vertical-align: middle;\n",
       "    }\n",
       "\n",
       "    .dataframe tbody tr th {\n",
       "        vertical-align: top;\n",
       "    }\n",
       "\n",
       "    .dataframe thead th {\n",
       "        text-align: right;\n",
       "    }\n",
       "</style>\n",
       "<table border=\"1\" class=\"dataframe\">\n",
       "  <thead>\n",
       "    <tr style=\"text-align: right;\">\n",
       "      <th></th>\n",
       "      <th>author</th>\n",
       "      <th>id_article</th>\n",
       "    </tr>\n",
       "  </thead>\n",
       "  <tbody>\n",
       "    <tr>\n",
       "      <th>0</th>\n",
       "      <td>Frank Manola</td>\n",
       "      <td>tr/gte/TR-0169-12-91-165</td>\n",
       "    </tr>\n",
       "    <tr>\n",
       "      <th>1</th>\n",
       "      <td>Frank Manola</td>\n",
       "      <td>tr/gte/TM-0332-11-90-165</td>\n",
       "    </tr>\n",
       "    <tr>\n",
       "      <th>2</th>\n",
       "      <td>Mark F. Hornick</td>\n",
       "      <td>tr/gte/TM-0332-11-90-165</td>\n",
       "    </tr>\n",
       "    <tr>\n",
       "      <th>3</th>\n",
       "      <td>Alejandro P. Buchmann</td>\n",
       "      <td>tr/gte/TM-0332-11-90-165</td>\n",
       "    </tr>\n",
       "    <tr>\n",
       "      <th>4</th>\n",
       "      <td>Frank Manola</td>\n",
       "      <td>tr/gte/TR-0263-08-94-165</td>\n",
       "    </tr>\n",
       "  </tbody>\n",
       "</table>\n",
       "</div>"
      ],
      "text/plain": [
       "                  author                id_article\n",
       "0           Frank Manola  tr/gte/TR-0169-12-91-165\n",
       "1           Frank Manola  tr/gte/TM-0332-11-90-165\n",
       "2        Mark F. Hornick  tr/gte/TM-0332-11-90-165\n",
       "3  Alejandro P. Buchmann  tr/gte/TM-0332-11-90-165\n",
       "4           Frank Manola  tr/gte/TR-0263-08-94-165"
      ]
     },
     "execution_count": 3,
     "metadata": {},
     "output_type": "execute_result"
    }
   ],
   "source": [
    "df.head()"
   ]
  },
  {
   "cell_type": "markdown",
   "metadata": {},
   "source": [
    "# Eliminar autores con una o dos publicaciones"
   ]
  },
  {
   "cell_type": "code",
   "execution_count": 4,
   "metadata": {},
   "outputs": [
    {
     "data": {
      "text/plain": [
       "author\n",
       "A Min Tjoa          38\n",
       "A-Imam Al-Sammak     1\n",
       "A-Rum Jun            3\n",
       "A-Xing Zhu           2\n",
       "A. A'Campo-Neuen     1\n",
       "Name: id_article, dtype: int64"
      ]
     },
     "execution_count": 4,
     "metadata": {},
     "output_type": "execute_result"
    }
   ],
   "source": [
    "# Eliminar autores con una o dos publicaciones\n",
    "\n",
    "autores_cantidad = df.groupby('author').count()\n",
    "cantidad = autores_cantidad.id_article\n",
    "cantidad[:5]"
   ]
  },
  {
   "cell_type": "code",
   "execution_count": 5,
   "metadata": {},
   "outputs": [
    {
     "data": {
      "text/plain": [
       "['A Min Tjoa',\n",
       " 'A-Rum Jun',\n",
       " 'A. A. (Louis) Beex',\n",
       " 'A. A. Abouelsoud',\n",
       " 'A. A. Ball']"
      ]
     },
     "execution_count": 5,
     "metadata": {},
     "output_type": "execute_result"
    }
   ],
   "source": [
    "lista_autores = []\n",
    "\n",
    "for i in range(len(cantidad)):\n",
    "    if cantidad[i] > 2:\n",
    "        lista_autores.append(cantidad.index[i])\n",
    "lista_autores[:5]"
   ]
  },
  {
   "cell_type": "code",
   "execution_count": 6,
   "metadata": {},
   "outputs": [
    {
     "name": "stdout",
     "output_type": "stream",
     "text": [
      "(1111670, 2)\n"
     ]
    }
   ],
   "source": [
    "print(df.shape)\n",
    "df = df.sort_values(by=['author'])\n",
    "df.reset_index(inplace=True)\n",
    "df.drop('index', axis=1, inplace=True)"
   ]
  },
  {
   "cell_type": "code",
   "execution_count": 7,
   "metadata": {},
   "outputs": [
    {
     "name": "stdout",
     "output_type": "stream",
     "text": [
      "['A Min Tjoa', 'A Min Tjoa', 'A Min Tjoa', 'A Min Tjoa', 'A Min Tjoa', 'A Min Tjoa', 'A Min Tjoa', 'A Min Tjoa', 'A Min Tjoa', 'A Min Tjoa']\n",
      "['conf/er/PernulWT93', 'conf/eurocast/OberlikPTWW94', 'conf/eurocast/GierlingerTW91', 'conf/dbsec/EssmayrPT97', 'conf/bis/SchieferT99', 'conf/europacs/Tjoa00', 'journals/jiis/MohaniaTK00', 'conf/tke/LukasSTB93', 'conf/er/PernulT91', 'conf/er/TjoaB93']\n"
     ]
    }
   ],
   "source": [
    "start = 0\n",
    "end = df.shape[0]\n",
    "\n",
    "inicio = 0\n",
    "fin = len(lista_autores)\n",
    "\n",
    "list_author = []\n",
    "list_title = []\n",
    "\n",
    "while start < end and inicio < fin:\n",
    "    \n",
    "    while inicio < fin and\\\n",
    "    df['author'].iloc[start] > lista_autores[inicio]:\n",
    "        inicio += 1\n",
    "        \n",
    "    if inicio == fin:\n",
    "        break\n",
    "        \n",
    "    if df['author'].iloc[start] == lista_autores[inicio]:\n",
    "        list_author.append(df['author'].iloc[start])\n",
    "        list_title.append(df['id_article'].iloc[start])    \n",
    "        \n",
    "    start += 1\n",
    "    \n",
    "print(list_author[:10])\n",
    "print(list_title[:10])"
   ]
  },
  {
   "cell_type": "code",
   "execution_count": 8,
   "metadata": {},
   "outputs": [
    {
     "data": {
      "text/plain": [
       "(828577, 2)"
      ]
     },
     "execution_count": 8,
     "metadata": {},
     "output_type": "execute_result"
    }
   ],
   "source": [
    "df = pd.DataFrame(list(zip(list_author, list_title)),\n",
    "                  columns=['author', 'id_article'])\n",
    "df.shape"
   ]
  },
  {
   "cell_type": "code",
   "execution_count": 16,
   "metadata": {},
   "outputs": [
    {
     "data": {
      "text/plain": [
       "88783"
      ]
     },
     "execution_count": 16,
     "metadata": {},
     "output_type": "execute_result"
    }
   ],
   "source": [
    "len(df['author'].unique())"
   ]
  },
  {
   "cell_type": "markdown",
   "metadata": {},
   "source": [
    "# Eliminar libros con un solo autor"
   ]
  },
  {
   "cell_type": "code",
   "execution_count": 9,
   "metadata": {},
   "outputs": [],
   "source": [
    "# Eliminar libros con un solo autor\n",
    "#df3.groupby('title').count()\n",
    "\n",
    "# Eliminar libros con un solo autor\n",
    "libros_cantidad = df.groupby('id_article').count()\n",
    "cantidad_libros = libros_cantidad.author"
   ]
  },
  {
   "cell_type": "code",
   "execution_count": 10,
   "metadata": {},
   "outputs": [
    {
     "data": {
      "text/plain": [
       "['conf/3dica/AhmedYHF97',\n",
       " 'conf/3dica/BernardiniR00',\n",
       " 'conf/3dica/BursanescuBHBG00',\n",
       " 'conf/3dica/CarocciLRS98',\n",
       " 'conf/3dica/CornerBP97',\n",
       " 'conf/3dica/DaanenTBN97',\n",
       " 'conf/3dica/EdelsbrunnerFFQN98',\n",
       " 'conf/3dica/GarciaTLDVA98',\n",
       " 'conf/3dica/GoddardA98',\n",
       " 'conf/3dica/HadjresM00']"
      ]
     },
     "execution_count": 10,
     "metadata": {},
     "output_type": "execute_result"
    }
   ],
   "source": [
    "lista_libros = []\n",
    "for i in range(len(cantidad_libros)):\n",
    "    if cantidad_libros[i] > 1:\n",
    "        lista_libros.append(cantidad_libros.index[i])\n",
    "lista_libros[:10]"
   ]
  },
  {
   "cell_type": "code",
   "execution_count": 11,
   "metadata": {},
   "outputs": [
    {
     "name": "stdout",
     "output_type": "stream",
     "text": [
      "(828577, 2)\n"
     ]
    },
    {
     "data": {
      "text/html": [
       "<div>\n",
       "<style scoped>\n",
       "    .dataframe tbody tr th:only-of-type {\n",
       "        vertical-align: middle;\n",
       "    }\n",
       "\n",
       "    .dataframe tbody tr th {\n",
       "        vertical-align: top;\n",
       "    }\n",
       "\n",
       "    .dataframe thead th {\n",
       "        text-align: right;\n",
       "    }\n",
       "</style>\n",
       "<table border=\"1\" class=\"dataframe\">\n",
       "  <thead>\n",
       "    <tr style=\"text-align: right;\">\n",
       "      <th></th>\n",
       "      <th>author</th>\n",
       "      <th>id_article</th>\n",
       "    </tr>\n",
       "  </thead>\n",
       "  <tbody>\n",
       "    <tr>\n",
       "      <th>0</th>\n",
       "      <td>Elsayed E. Hemayed</td>\n",
       "      <td>conf/3dica/AhmedYHF97</td>\n",
       "    </tr>\n",
       "    <tr>\n",
       "      <th>1</th>\n",
       "      <td>Aly A. Farag</td>\n",
       "      <td>conf/3dica/AhmedYHF97</td>\n",
       "    </tr>\n",
       "    <tr>\n",
       "      <th>2</th>\n",
       "      <td>Moumen T. Ahmed</td>\n",
       "      <td>conf/3dica/AhmedYHF97</td>\n",
       "    </tr>\n",
       "    <tr>\n",
       "      <th>3</th>\n",
       "      <td>Sameh M. Yamany</td>\n",
       "      <td>conf/3dica/AhmedYHF97</td>\n",
       "    </tr>\n",
       "    <tr>\n",
       "      <th>4</th>\n",
       "      <td>Holly E. Rushmeier</td>\n",
       "      <td>conf/3dica/BernardiniR00</td>\n",
       "    </tr>\n",
       "  </tbody>\n",
       "</table>\n",
       "</div>"
      ],
      "text/plain": [
       "               author                id_article\n",
       "0  Elsayed E. Hemayed     conf/3dica/AhmedYHF97\n",
       "1        Aly A. Farag     conf/3dica/AhmedYHF97\n",
       "2     Moumen T. Ahmed     conf/3dica/AhmedYHF97\n",
       "3     Sameh M. Yamany     conf/3dica/AhmedYHF97\n",
       "4  Holly E. Rushmeier  conf/3dica/BernardiniR00"
      ]
     },
     "execution_count": 11,
     "metadata": {},
     "output_type": "execute_result"
    }
   ],
   "source": [
    "print(df.shape)\n",
    "df = df.sort_values(by=['id_article'])\n",
    "df.reset_index(inplace=True)\n",
    "df.drop('index', axis=1, inplace=True)\n",
    "df.head()"
   ]
  },
  {
   "cell_type": "code",
   "execution_count": 12,
   "metadata": {},
   "outputs": [
    {
     "name": "stdout",
     "output_type": "stream",
     "text": [
      "['Elsayed E. Hemayed', 'Aly A. Farag', 'Moumen T. Ahmed', 'Sameh M. Yamany', 'Holly E. Rushmeier', 'Fausto Bernardini', 'François Blais', 'Liviu Bursanescu', 'David A. Green', 'Maher Hamdi']\n",
      "['conf/3dica/AhmedYHF97', 'conf/3dica/AhmedYHF97', 'conf/3dica/AhmedYHF97', 'conf/3dica/AhmedYHF97', 'conf/3dica/BernardiniR00', 'conf/3dica/BernardiniR00', 'conf/3dica/BursanescuBHBG00', 'conf/3dica/BursanescuBHBG00', 'conf/3dica/BursanescuBHBG00', 'conf/3dica/BursanescuBHBG00']\n"
     ]
    }
   ],
   "source": [
    "start = 0\n",
    "end = df.shape[0]\n",
    "\n",
    "inicio = 0\n",
    "fin = len(lista_libros)\n",
    "\n",
    "list_author = []\n",
    "list_title = []\n",
    "\n",
    "while start < end and inicio < fin:\n",
    "    \n",
    "    while inicio < fin and\\\n",
    "    df['id_article'].iloc[start] > lista_libros[inicio]:\n",
    "        inicio += 1\n",
    "        \n",
    "    if inicio == fin:\n",
    "        break\n",
    "        \n",
    "    if df['id_article'].iloc[start] == lista_libros[inicio]:\n",
    "        list_author.append(df['author'].iloc[start])\n",
    "        list_title.append(df['id_article'].iloc[start])    \n",
    "        \n",
    "    start += 1\n",
    "    \n",
    "print(list_author[:10])\n",
    "print(list_title[:10])"
   ]
  },
  {
   "cell_type": "code",
   "execution_count": 13,
   "metadata": {},
   "outputs": [
    {
     "data": {
      "text/plain": [
       "(656387, 2)"
      ]
     },
     "execution_count": 13,
     "metadata": {},
     "output_type": "execute_result"
    }
   ],
   "source": [
    "df = pd.DataFrame(list(zip(list_author, list_title)),\n",
    "                  columns=['author', 'id_article'])\n",
    "df.shape"
   ]
  },
  {
   "cell_type": "code",
   "execution_count": 14,
   "metadata": {},
   "outputs": [
    {
     "data": {
      "text/html": [
       "<div>\n",
       "<style scoped>\n",
       "    .dataframe tbody tr th:only-of-type {\n",
       "        vertical-align: middle;\n",
       "    }\n",
       "\n",
       "    .dataframe tbody tr th {\n",
       "        vertical-align: top;\n",
       "    }\n",
       "\n",
       "    .dataframe thead th {\n",
       "        text-align: right;\n",
       "    }\n",
       "</style>\n",
       "<table border=\"1\" class=\"dataframe\">\n",
       "  <thead>\n",
       "    <tr style=\"text-align: right;\">\n",
       "      <th></th>\n",
       "      <th>author</th>\n",
       "    </tr>\n",
       "    <tr>\n",
       "      <th>id_article</th>\n",
       "      <th></th>\n",
       "    </tr>\n",
       "  </thead>\n",
       "  <tbody>\n",
       "    <tr>\n",
       "      <th>conf/3dica/AhmedYHF97</th>\n",
       "      <td>4</td>\n",
       "    </tr>\n",
       "    <tr>\n",
       "      <th>conf/3dica/BernardiniR00</th>\n",
       "      <td>2</td>\n",
       "    </tr>\n",
       "    <tr>\n",
       "      <th>conf/3dica/BursanescuBHBG00</th>\n",
       "      <td>4</td>\n",
       "    </tr>\n",
       "    <tr>\n",
       "      <th>conf/3dica/CarocciLRS98</th>\n",
       "      <td>4</td>\n",
       "    </tr>\n",
       "    <tr>\n",
       "      <th>conf/3dica/CornerBP97</th>\n",
       "      <td>2</td>\n",
       "    </tr>\n",
       "    <tr>\n",
       "      <th>conf/3dica/DaanenTBN97</th>\n",
       "      <td>3</td>\n",
       "    </tr>\n",
       "    <tr>\n",
       "      <th>conf/3dica/EdelsbrunnerFFQN98</th>\n",
       "      <td>4</td>\n",
       "    </tr>\n",
       "    <tr>\n",
       "      <th>conf/3dica/GarciaTLDVA98</th>\n",
       "      <td>5</td>\n",
       "    </tr>\n",
       "    <tr>\n",
       "      <th>conf/3dica/GoddardA98</th>\n",
       "      <td>2</td>\n",
       "    </tr>\n",
       "    <tr>\n",
       "      <th>conf/3dica/HadjresM00</th>\n",
       "      <td>2</td>\n",
       "    </tr>\n",
       "    <tr>\n",
       "      <th>conf/3dica/HagaSHS99</th>\n",
       "      <td>2</td>\n",
       "    </tr>\n",
       "    <tr>\n",
       "      <th>conf/3dica/HebertR98</th>\n",
       "      <td>2</td>\n",
       "    </tr>\n",
       "    <tr>\n",
       "      <th>conf/3dica/HemayedF99</th>\n",
       "      <td>2</td>\n",
       "    </tr>\n",
       "    <tr>\n",
       "      <th>conf/3dica/HemayedMF00</th>\n",
       "      <td>3</td>\n",
       "    </tr>\n",
       "    <tr>\n",
       "      <th>conf/3dica/HemayedSWF97</th>\n",
       "      <td>2</td>\n",
       "    </tr>\n",
       "    <tr>\n",
       "      <th>conf/3dica/HosoyaNO98</th>\n",
       "      <td>3</td>\n",
       "    </tr>\n",
       "    <tr>\n",
       "      <th>conf/3dica/HungCHF99</th>\n",
       "      <td>3</td>\n",
       "    </tr>\n",
       "    <tr>\n",
       "      <th>conf/3dica/JostSH99</th>\n",
       "      <td>3</td>\n",
       "    </tr>\n",
       "    <tr>\n",
       "      <th>conf/3dica/JuarezDA00</th>\n",
       "      <td>2</td>\n",
       "    </tr>\n",
       "    <tr>\n",
       "      <th>conf/3dica/KanamaruYINAS00</th>\n",
       "      <td>6</td>\n",
       "    </tr>\n",
       "    <tr>\n",
       "      <th>conf/3dica/KarbacherH98</th>\n",
       "      <td>2</td>\n",
       "    </tr>\n",
       "    <tr>\n",
       "      <th>conf/3dica/KobayashiFKT00</th>\n",
       "      <td>3</td>\n",
       "    </tr>\n",
       "    <tr>\n",
       "      <th>conf/3dica/LangeC99</th>\n",
       "      <td>2</td>\n",
       "    </tr>\n",
       "    <tr>\n",
       "      <th>conf/3dica/LechatMP97</th>\n",
       "      <td>2</td>\n",
       "    </tr>\n",
       "    <tr>\n",
       "      <th>conf/3dica/LeeKP99</th>\n",
       "      <td>3</td>\n",
       "    </tr>\n",
       "    <tr>\n",
       "      <th>conf/3dica/LiCP00</th>\n",
       "      <td>3</td>\n",
       "    </tr>\n",
       "    <tr>\n",
       "      <th>conf/3dica/LiCP99</th>\n",
       "      <td>3</td>\n",
       "    </tr>\n",
       "    <tr>\n",
       "      <th>conf/3dica/MatsumotoFK99</th>\n",
       "      <td>2</td>\n",
       "    </tr>\n",
       "    <tr>\n",
       "      <th>conf/3dica/MenardS98</th>\n",
       "      <td>2</td>\n",
       "    </tr>\n",
       "    <tr>\n",
       "      <th>conf/3dica/OhLK00</th>\n",
       "      <td>2</td>\n",
       "    </tr>\n",
       "    <tr>\n",
       "      <th>...</th>\n",
       "      <td>...</td>\n",
       "    </tr>\n",
       "    <tr>\n",
       "      <th>tr/trier/MI97-13</th>\n",
       "      <td>2</td>\n",
       "    </tr>\n",
       "    <tr>\n",
       "      <th>tr/trier/MI97-14</th>\n",
       "      <td>3</td>\n",
       "    </tr>\n",
       "    <tr>\n",
       "      <th>tr/trier/MI97-15</th>\n",
       "      <td>2</td>\n",
       "    </tr>\n",
       "    <tr>\n",
       "      <th>tr/trier/MI97-16</th>\n",
       "      <td>2</td>\n",
       "    </tr>\n",
       "    <tr>\n",
       "      <th>tr/trier/MI97-23</th>\n",
       "      <td>2</td>\n",
       "    </tr>\n",
       "    <tr>\n",
       "      <th>tr/trier/MI97-27</th>\n",
       "      <td>2</td>\n",
       "    </tr>\n",
       "    <tr>\n",
       "      <th>tr/trier/MI97-28</th>\n",
       "      <td>2</td>\n",
       "    </tr>\n",
       "    <tr>\n",
       "      <th>tr/trier/MI98-01</th>\n",
       "      <td>2</td>\n",
       "    </tr>\n",
       "    <tr>\n",
       "      <th>tr/trier/MI98-08</th>\n",
       "      <td>2</td>\n",
       "    </tr>\n",
       "    <tr>\n",
       "      <th>tr/trier/MI98-09</th>\n",
       "      <td>2</td>\n",
       "    </tr>\n",
       "    <tr>\n",
       "      <th>tr/trier/MI98-13</th>\n",
       "      <td>2</td>\n",
       "    </tr>\n",
       "    <tr>\n",
       "      <th>tr/trier/MI98-21</th>\n",
       "      <td>3</td>\n",
       "    </tr>\n",
       "    <tr>\n",
       "      <th>tr/trier/MI98-22</th>\n",
       "      <td>6</td>\n",
       "    </tr>\n",
       "    <tr>\n",
       "      <th>tr/trier/MI98-23</th>\n",
       "      <td>2</td>\n",
       "    </tr>\n",
       "    <tr>\n",
       "      <th>tr/trier/MI98-24</th>\n",
       "      <td>2</td>\n",
       "    </tr>\n",
       "    <tr>\n",
       "      <th>tr/trier/MI98-25</th>\n",
       "      <td>2</td>\n",
       "    </tr>\n",
       "    <tr>\n",
       "      <th>tr/trier/MI98-27</th>\n",
       "      <td>2</td>\n",
       "    </tr>\n",
       "    <tr>\n",
       "      <th>tr/trier/MI98-28</th>\n",
       "      <td>2</td>\n",
       "    </tr>\n",
       "    <tr>\n",
       "      <th>tr/trier/MI98-29</th>\n",
       "      <td>4</td>\n",
       "    </tr>\n",
       "    <tr>\n",
       "      <th>tr/trier/MI99-06</th>\n",
       "      <td>2</td>\n",
       "    </tr>\n",
       "    <tr>\n",
       "      <th>tr/trier/MI99-07</th>\n",
       "      <td>2</td>\n",
       "    </tr>\n",
       "    <tr>\n",
       "      <th>tr/trier/MI99-10</th>\n",
       "      <td>3</td>\n",
       "    </tr>\n",
       "    <tr>\n",
       "      <th>tr/trier/MI99-14</th>\n",
       "      <td>2</td>\n",
       "    </tr>\n",
       "    <tr>\n",
       "      <th>tr/trier/MI99-16</th>\n",
       "      <td>2</td>\n",
       "    </tr>\n",
       "    <tr>\n",
       "      <th>tr/trier/MI99-19</th>\n",
       "      <td>2</td>\n",
       "    </tr>\n",
       "    <tr>\n",
       "      <th>tr/trier/MI99-23</th>\n",
       "      <td>2</td>\n",
       "    </tr>\n",
       "    <tr>\n",
       "      <th>tr/trier/MI99-25</th>\n",
       "      <td>4</td>\n",
       "    </tr>\n",
       "    <tr>\n",
       "      <th>tr/trier/MI99-27</th>\n",
       "      <td>3</td>\n",
       "    </tr>\n",
       "    <tr>\n",
       "      <th>tr/trier/MI99-28</th>\n",
       "      <td>2</td>\n",
       "    </tr>\n",
       "    <tr>\n",
       "      <th>tr/trier/MI99-29</th>\n",
       "      <td>2</td>\n",
       "    </tr>\n",
       "  </tbody>\n",
       "</table>\n",
       "<p>251190 rows × 1 columns</p>\n",
       "</div>"
      ],
      "text/plain": [
       "                               author\n",
       "id_article                           \n",
       "conf/3dica/AhmedYHF97               4\n",
       "conf/3dica/BernardiniR00            2\n",
       "conf/3dica/BursanescuBHBG00         4\n",
       "conf/3dica/CarocciLRS98             4\n",
       "conf/3dica/CornerBP97               2\n",
       "conf/3dica/DaanenTBN97              3\n",
       "conf/3dica/EdelsbrunnerFFQN98       4\n",
       "conf/3dica/GarciaTLDVA98            5\n",
       "conf/3dica/GoddardA98               2\n",
       "conf/3dica/HadjresM00               2\n",
       "conf/3dica/HagaSHS99                2\n",
       "conf/3dica/HebertR98                2\n",
       "conf/3dica/HemayedF99               2\n",
       "conf/3dica/HemayedMF00              3\n",
       "conf/3dica/HemayedSWF97             2\n",
       "conf/3dica/HosoyaNO98               3\n",
       "conf/3dica/HungCHF99                3\n",
       "conf/3dica/JostSH99                 3\n",
       "conf/3dica/JuarezDA00               2\n",
       "conf/3dica/KanamaruYINAS00          6\n",
       "conf/3dica/KarbacherH98             2\n",
       "conf/3dica/KobayashiFKT00           3\n",
       "conf/3dica/LangeC99                 2\n",
       "conf/3dica/LechatMP97               2\n",
       "conf/3dica/LeeKP99                  3\n",
       "conf/3dica/LiCP00                   3\n",
       "conf/3dica/LiCP99                   3\n",
       "conf/3dica/MatsumotoFK99            2\n",
       "conf/3dica/MenardS98                2\n",
       "conf/3dica/OhLK00                   2\n",
       "...                               ...\n",
       "tr/trier/MI97-13                    2\n",
       "tr/trier/MI97-14                    3\n",
       "tr/trier/MI97-15                    2\n",
       "tr/trier/MI97-16                    2\n",
       "tr/trier/MI97-23                    2\n",
       "tr/trier/MI97-27                    2\n",
       "tr/trier/MI97-28                    2\n",
       "tr/trier/MI98-01                    2\n",
       "tr/trier/MI98-08                    2\n",
       "tr/trier/MI98-09                    2\n",
       "tr/trier/MI98-13                    2\n",
       "tr/trier/MI98-21                    3\n",
       "tr/trier/MI98-22                    6\n",
       "tr/trier/MI98-23                    2\n",
       "tr/trier/MI98-24                    2\n",
       "tr/trier/MI98-25                    2\n",
       "tr/trier/MI98-27                    2\n",
       "tr/trier/MI98-28                    2\n",
       "tr/trier/MI98-29                    4\n",
       "tr/trier/MI99-06                    2\n",
       "tr/trier/MI99-07                    2\n",
       "tr/trier/MI99-10                    3\n",
       "tr/trier/MI99-14                    2\n",
       "tr/trier/MI99-16                    2\n",
       "tr/trier/MI99-19                    2\n",
       "tr/trier/MI99-23                    2\n",
       "tr/trier/MI99-25                    4\n",
       "tr/trier/MI99-27                    3\n",
       "tr/trier/MI99-28                    2\n",
       "tr/trier/MI99-29                    2\n",
       "\n",
       "[251190 rows x 1 columns]"
      ]
     },
     "execution_count": 14,
     "metadata": {},
     "output_type": "execute_result"
    }
   ],
   "source": [
    "df.groupby('id_article').count()"
   ]
  },
  {
   "cell_type": "code",
   "execution_count": 15,
   "metadata": {},
   "outputs": [],
   "source": [
    "df.to_csv('nodes_catalogue.csv', index=False)"
   ]
  },
  {
   "cell_type": "code",
   "execution_count": null,
   "metadata": {},
   "outputs": [],
   "source": []
  }
 ],
 "metadata": {
  "kernelspec": {
   "display_name": "Python 3",
   "language": "python",
   "name": "python3"
  },
  "language_info": {
   "codemirror_mode": {
    "name": "ipython",
    "version": 3
   },
   "file_extension": ".py",
   "mimetype": "text/x-python",
   "name": "python",
   "nbconvert_exporter": "python",
   "pygments_lexer": "ipython3",
   "version": "3.7.3"
  }
 },
 "nbformat": 4,
 "nbformat_minor": 2
}
