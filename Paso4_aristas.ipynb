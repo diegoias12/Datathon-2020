{
 "cells": [
  {
   "cell_type": "code",
   "execution_count": 1,
   "metadata": {},
   "outputs": [],
   "source": [
    "import pandas as pd\n",
    "import networkx as nx\n",
    "import matplotlib.pyplot as plt"
   ]
  },
  {
   "cell_type": "code",
   "execution_count": 2,
   "metadata": {},
   "outputs": [
    {
     "data": {
      "text/html": [
       "<div>\n",
       "<style scoped>\n",
       "    .dataframe tbody tr th:only-of-type {\n",
       "        vertical-align: middle;\n",
       "    }\n",
       "\n",
       "    .dataframe tbody tr th {\n",
       "        vertical-align: top;\n",
       "    }\n",
       "\n",
       "    .dataframe thead th {\n",
       "        text-align: right;\n",
       "    }\n",
       "</style>\n",
       "<table border=\"1\" class=\"dataframe\">\n",
       "  <thead>\n",
       "    <tr style=\"text-align: right;\">\n",
       "      <th></th>\n",
       "      <th>author</th>\n",
       "      <th>id_article</th>\n",
       "    </tr>\n",
       "  </thead>\n",
       "  <tbody>\n",
       "    <tr>\n",
       "      <th>0</th>\n",
       "      <td>Elsayed E. Hemayed</td>\n",
       "      <td>conf/3dica/AhmedYHF97</td>\n",
       "    </tr>\n",
       "    <tr>\n",
       "      <th>1</th>\n",
       "      <td>Aly A. Farag</td>\n",
       "      <td>conf/3dica/AhmedYHF97</td>\n",
       "    </tr>\n",
       "    <tr>\n",
       "      <th>2</th>\n",
       "      <td>Moumen T. Ahmed</td>\n",
       "      <td>conf/3dica/AhmedYHF97</td>\n",
       "    </tr>\n",
       "    <tr>\n",
       "      <th>3</th>\n",
       "      <td>Sameh M. Yamany</td>\n",
       "      <td>conf/3dica/AhmedYHF97</td>\n",
       "    </tr>\n",
       "    <tr>\n",
       "      <th>4</th>\n",
       "      <td>Holly E. Rushmeier</td>\n",
       "      <td>conf/3dica/BernardiniR00</td>\n",
       "    </tr>\n",
       "    <tr>\n",
       "      <th>5</th>\n",
       "      <td>Fausto Bernardini</td>\n",
       "      <td>conf/3dica/BernardiniR00</td>\n",
       "    </tr>\n",
       "    <tr>\n",
       "      <th>6</th>\n",
       "      <td>François Blais</td>\n",
       "      <td>conf/3dica/BursanescuBHBG00</td>\n",
       "    </tr>\n",
       "    <tr>\n",
       "      <th>7</th>\n",
       "      <td>Liviu Bursanescu</td>\n",
       "      <td>conf/3dica/BursanescuBHBG00</td>\n",
       "    </tr>\n",
       "    <tr>\n",
       "      <th>8</th>\n",
       "      <td>David A. Green</td>\n",
       "      <td>conf/3dica/BursanescuBHBG00</td>\n",
       "    </tr>\n",
       "    <tr>\n",
       "      <th>9</th>\n",
       "      <td>Maher Hamdi</td>\n",
       "      <td>conf/3dica/BursanescuBHBG00</td>\n",
       "    </tr>\n",
       "  </tbody>\n",
       "</table>\n",
       "</div>"
      ],
      "text/plain": [
       "               author                   id_article\n",
       "0  Elsayed E. Hemayed        conf/3dica/AhmedYHF97\n",
       "1        Aly A. Farag        conf/3dica/AhmedYHF97\n",
       "2     Moumen T. Ahmed        conf/3dica/AhmedYHF97\n",
       "3     Sameh M. Yamany        conf/3dica/AhmedYHF97\n",
       "4  Holly E. Rushmeier     conf/3dica/BernardiniR00\n",
       "5   Fausto Bernardini     conf/3dica/BernardiniR00\n",
       "6      François Blais  conf/3dica/BursanescuBHBG00\n",
       "7    Liviu Bursanescu  conf/3dica/BursanescuBHBG00\n",
       "8      David A. Green  conf/3dica/BursanescuBHBG00\n",
       "9         Maher Hamdi  conf/3dica/BursanescuBHBG00"
      ]
     },
     "execution_count": 2,
     "metadata": {},
     "output_type": "execute_result"
    }
   ],
   "source": [
    "df = pd.read_csv('nodes_catalogue.csv')\n",
    "df.head(10)"
   ]
  },
  {
   "cell_type": "code",
   "execution_count": 3,
   "metadata": {},
   "outputs": [
    {
     "data": {
      "text/plain": [
       "88783"
      ]
     },
     "execution_count": 3,
     "metadata": {},
     "output_type": "execute_result"
    }
   ],
   "source": [
    "len(df['author'].unique())"
   ]
  },
  {
   "cell_type": "code",
   "execution_count": 4,
   "metadata": {},
   "outputs": [],
   "source": [
    "G = nx.Graph()\n",
    "begin = 0\n",
    "final =  begin+1\n",
    "end = df.shape[0]\n",
    "\n",
    "while begin < end:\n",
    "    while final < end and df['id_article'].iloc[begin] == df['id_article'].iloc[final]:\n",
    "        final+=1\n",
    "    while begin < final:\n",
    "        aux = begin +1\n",
    "        while aux < final:\n",
    "            G.add_edge(df['author'].iloc[aux],df['author'].iloc[begin])\n",
    "            aux+=1\n",
    "        begin+=1\n"
   ]
  },
  {
   "cell_type": "code",
   "execution_count": 5,
   "metadata": {},
   "outputs": [
    {
     "data": {
      "text/plain": [
       "284654"
      ]
     },
     "execution_count": 5,
     "metadata": {},
     "output_type": "execute_result"
    }
   ],
   "source": [
    "aristas = [e for e in G.edges]\n",
    "len(aristas)"
   ]
  },
  {
   "cell_type": "code",
   "execution_count": 6,
   "metadata": {},
   "outputs": [
    {
     "data": {
      "text/html": [
       "<div>\n",
       "<style scoped>\n",
       "    .dataframe tbody tr th:only-of-type {\n",
       "        vertical-align: middle;\n",
       "    }\n",
       "\n",
       "    .dataframe tbody tr th {\n",
       "        vertical-align: top;\n",
       "    }\n",
       "\n",
       "    .dataframe thead th {\n",
       "        text-align: right;\n",
       "    }\n",
       "</style>\n",
       "<table border=\"1\" class=\"dataframe\">\n",
       "  <thead>\n",
       "    <tr style=\"text-align: right;\">\n",
       "      <th></th>\n",
       "      <th>source</th>\n",
       "      <th>target</th>\n",
       "    </tr>\n",
       "  </thead>\n",
       "  <tbody>\n",
       "    <tr>\n",
       "      <th>0</th>\n",
       "      <td>Aly A. Farag</td>\n",
       "      <td>Elsayed E. Hemayed</td>\n",
       "    </tr>\n",
       "    <tr>\n",
       "      <th>1</th>\n",
       "      <td>Aly A. Farag</td>\n",
       "      <td>Moumen T. Ahmed</td>\n",
       "    </tr>\n",
       "    <tr>\n",
       "      <th>2</th>\n",
       "      <td>Aly A. Farag</td>\n",
       "      <td>Sameh M. Yamany</td>\n",
       "    </tr>\n",
       "    <tr>\n",
       "      <th>3</th>\n",
       "      <td>Aly A. Farag</td>\n",
       "      <td>Mostafa Gadal-Haqq M. Mostafa</td>\n",
       "    </tr>\n",
       "    <tr>\n",
       "      <th>4</th>\n",
       "      <td>Aly A. Farag</td>\n",
       "      <td>David Tasman</td>\n",
       "    </tr>\n",
       "    <tr>\n",
       "      <th>5</th>\n",
       "      <td>Aly A. Farag</td>\n",
       "      <td>Allan G. Farman</td>\n",
       "    </tr>\n",
       "    <tr>\n",
       "      <th>6</th>\n",
       "      <td>Aly A. Farag</td>\n",
       "      <td>Mohamed N. Ahmed</td>\n",
       "    </tr>\n",
       "    <tr>\n",
       "      <th>7</th>\n",
       "      <td>Aly A. Farag</td>\n",
       "      <td>S. Ahmed</td>\n",
       "    </tr>\n",
       "    <tr>\n",
       "      <th>8</th>\n",
       "      <td>Aly A. Farag</td>\n",
       "      <td>S. Roberts</td>\n",
       "    </tr>\n",
       "    <tr>\n",
       "      <th>9</th>\n",
       "      <td>Aly A. Farag</td>\n",
       "      <td>Edward J. Delp</td>\n",
       "    </tr>\n",
       "  </tbody>\n",
       "</table>\n",
       "</div>"
      ],
      "text/plain": [
       "         source                         target\n",
       "0  Aly A. Farag             Elsayed E. Hemayed\n",
       "1  Aly A. Farag                Moumen T. Ahmed\n",
       "2  Aly A. Farag                Sameh M. Yamany\n",
       "3  Aly A. Farag  Mostafa Gadal-Haqq M. Mostafa\n",
       "4  Aly A. Farag                   David Tasman\n",
       "5  Aly A. Farag                Allan G. Farman\n",
       "6  Aly A. Farag               Mohamed N. Ahmed\n",
       "7  Aly A. Farag                       S. Ahmed\n",
       "8  Aly A. Farag                     S. Roberts\n",
       "9  Aly A. Farag                 Edward J. Delp"
      ]
     },
     "execution_count": 6,
     "metadata": {},
     "output_type": "execute_result"
    }
   ],
   "source": [
    "df_edges = pd.DataFrame(aristas, columns=['source', 'target'])\n",
    "df_edges.head(10)"
   ]
  },
  {
   "cell_type": "code",
   "execution_count": 7,
   "metadata": {},
   "outputs": [],
   "source": [
    "df_edges.to_csv('edges.csv', index=False)"
   ]
  },
  {
   "cell_type": "code",
   "execution_count": null,
   "metadata": {},
   "outputs": [],
   "source": []
  }
 ],
 "metadata": {
  "kernelspec": {
   "display_name": "Python 3",
   "language": "python",
   "name": "python3"
  },
  "language_info": {
   "codemirror_mode": {
    "name": "ipython",
    "version": 3
   },
   "file_extension": ".py",
   "mimetype": "text/x-python",
   "name": "python",
   "nbconvert_exporter": "python",
   "pygments_lexer": "ipython3",
   "version": "3.7.3"
  }
 },
 "nbformat": 4,
 "nbformat_minor": 2
}
