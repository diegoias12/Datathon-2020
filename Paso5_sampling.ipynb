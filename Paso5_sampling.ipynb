{
 "cells": [
  {
   "cell_type": "code",
   "execution_count": 1,
   "metadata": {},
   "outputs": [],
   "source": [
    "import numpy as np\n",
    "import matplotlib.pyplot as plt\n",
    "import pandas as pd\n",
    "import networkx as nx\n",
    "from sklearn.metrics import confusion_matrix"
   ]
  },
  {
   "cell_type": "code",
   "execution_count": 2,
   "metadata": {},
   "outputs": [
    {
     "name": "stdout",
     "output_type": "stream",
     "text": [
      "(42004, 2)\n"
     ]
    },
    {
     "data": {
      "text/html": [
       "<div>\n",
       "<style scoped>\n",
       "    .dataframe tbody tr th:only-of-type {\n",
       "        vertical-align: middle;\n",
       "    }\n",
       "\n",
       "    .dataframe tbody tr th {\n",
       "        vertical-align: top;\n",
       "    }\n",
       "\n",
       "    .dataframe thead th {\n",
       "        text-align: right;\n",
       "    }\n",
       "</style>\n",
       "<table border=\"1\" class=\"dataframe\">\n",
       "  <thead>\n",
       "    <tr style=\"text-align: right;\">\n",
       "      <th></th>\n",
       "      <th>source</th>\n",
       "      <th>target</th>\n",
       "    </tr>\n",
       "  </thead>\n",
       "  <tbody>\n",
       "    <tr>\n",
       "      <th>0</th>\n",
       "      <td>David J. Hawkes</td>\n",
       "      <td>A. A. J. Marley</td>\n",
       "    </tr>\n",
       "    <tr>\n",
       "      <th>1</th>\n",
       "      <td>Steven Feiner</td>\n",
       "      <td>A. A. J. Marley</td>\n",
       "    </tr>\n",
       "    <tr>\n",
       "      <th>2</th>\n",
       "      <td>Jürgen Wüst</td>\n",
       "      <td>A. A. J. Marley</td>\n",
       "    </tr>\n",
       "    <tr>\n",
       "      <th>3</th>\n",
       "      <td>Shlomo Shamai</td>\n",
       "      <td>A. A. J. Marley</td>\n",
       "    </tr>\n",
       "    <tr>\n",
       "      <th>4</th>\n",
       "      <td>Maurizio Talamo</td>\n",
       "      <td>A. A. J. Marley</td>\n",
       "    </tr>\n",
       "  </tbody>\n",
       "</table>\n",
       "</div>"
      ],
      "text/plain": [
       "            source           target\n",
       "0  David J. Hawkes  A. A. J. Marley\n",
       "1    Steven Feiner  A. A. J. Marley\n",
       "2      Jürgen Wüst  A. A. J. Marley\n",
       "3    Shlomo Shamai  A. A. J. Marley\n",
       "4  Maurizio Talamo  A. A. J. Marley"
      ]
     },
     "execution_count": 2,
     "metadata": {},
     "output_type": "execute_result"
    }
   ],
   "source": [
    "edges_labeled = pd.read_csv('edges_labeled.csv')\n",
    "y = edges_labeled['prediction']\n",
    "X = edges_labeled.drop('prediction', axis=1)\n",
    "print(X.shape)\n",
    "X.head()"
   ]
  },
  {
   "cell_type": "code",
   "execution_count": 3,
   "metadata": {},
   "outputs": [
    {
     "name": "stdout",
     "output_type": "stream",
     "text": [
      "(284654, 2)\n"
     ]
    },
    {
     "data": {
      "text/html": [
       "<div>\n",
       "<style scoped>\n",
       "    .dataframe tbody tr th:only-of-type {\n",
       "        vertical-align: middle;\n",
       "    }\n",
       "\n",
       "    .dataframe tbody tr th {\n",
       "        vertical-align: top;\n",
       "    }\n",
       "\n",
       "    .dataframe thead th {\n",
       "        text-align: right;\n",
       "    }\n",
       "</style>\n",
       "<table border=\"1\" class=\"dataframe\">\n",
       "  <thead>\n",
       "    <tr style=\"text-align: right;\">\n",
       "      <th></th>\n",
       "      <th>source</th>\n",
       "      <th>target</th>\n",
       "    </tr>\n",
       "  </thead>\n",
       "  <tbody>\n",
       "    <tr>\n",
       "      <th>0</th>\n",
       "      <td>Aly A. Farag</td>\n",
       "      <td>Elsayed E. Hemayed</td>\n",
       "    </tr>\n",
       "    <tr>\n",
       "      <th>1</th>\n",
       "      <td>Aly A. Farag</td>\n",
       "      <td>Moumen T. Ahmed</td>\n",
       "    </tr>\n",
       "    <tr>\n",
       "      <th>2</th>\n",
       "      <td>Aly A. Farag</td>\n",
       "      <td>Sameh M. Yamany</td>\n",
       "    </tr>\n",
       "    <tr>\n",
       "      <th>3</th>\n",
       "      <td>Aly A. Farag</td>\n",
       "      <td>Mostafa Gadal-Haqq M. Mostafa</td>\n",
       "    </tr>\n",
       "    <tr>\n",
       "      <th>4</th>\n",
       "      <td>Aly A. Farag</td>\n",
       "      <td>David Tasman</td>\n",
       "    </tr>\n",
       "    <tr>\n",
       "      <th>5</th>\n",
       "      <td>Aly A. Farag</td>\n",
       "      <td>Allan G. Farman</td>\n",
       "    </tr>\n",
       "    <tr>\n",
       "      <th>6</th>\n",
       "      <td>Aly A. Farag</td>\n",
       "      <td>Mohamed N. Ahmed</td>\n",
       "    </tr>\n",
       "    <tr>\n",
       "      <th>7</th>\n",
       "      <td>Aly A. Farag</td>\n",
       "      <td>S. Ahmed</td>\n",
       "    </tr>\n",
       "    <tr>\n",
       "      <th>8</th>\n",
       "      <td>Aly A. Farag</td>\n",
       "      <td>S. Roberts</td>\n",
       "    </tr>\n",
       "    <tr>\n",
       "      <th>9</th>\n",
       "      <td>Aly A. Farag</td>\n",
       "      <td>Edward J. Delp</td>\n",
       "    </tr>\n",
       "  </tbody>\n",
       "</table>\n",
       "</div>"
      ],
      "text/plain": [
       "         source                         target\n",
       "0  Aly A. Farag             Elsayed E. Hemayed\n",
       "1  Aly A. Farag                Moumen T. Ahmed\n",
       "2  Aly A. Farag                Sameh M. Yamany\n",
       "3  Aly A. Farag  Mostafa Gadal-Haqq M. Mostafa\n",
       "4  Aly A. Farag                   David Tasman\n",
       "5  Aly A. Farag                Allan G. Farman\n",
       "6  Aly A. Farag               Mohamed N. Ahmed\n",
       "7  Aly A. Farag                       S. Ahmed\n",
       "8  Aly A. Farag                     S. Roberts\n",
       "9  Aly A. Farag                 Edward J. Delp"
      ]
     },
     "execution_count": 3,
     "metadata": {},
     "output_type": "execute_result"
    }
   ],
   "source": [
    "df = pd.read_csv('edges.csv')\n",
    "print(df.shape)\n",
    "df.head(10)"
   ]
  },
  {
   "cell_type": "code",
   "execution_count": 4,
   "metadata": {},
   "outputs": [],
   "source": [
    "G = nx.Graph()\n",
    "\n",
    "for _, row in df.iterrows():\n",
    "    G.add_edge(row['source'], row['target'])"
   ]
  },
  {
   "cell_type": "code",
   "execution_count": 5,
   "metadata": {},
   "outputs": [
    {
     "data": {
      "text/plain": [
       "[('David J. Hawkes', 'A. A. J. Marley'),\n",
       " ('Steven Feiner', 'A. A. J. Marley'),\n",
       " ('Jürgen Wüst', 'A. A. J. Marley'),\n",
       " ('Shlomo Shamai', 'A. A. J. Marley'),\n",
       " ('Maurizio Talamo', 'A. A. J. Marley')]"
      ]
     },
     "execution_count": 5,
     "metadata": {},
     "output_type": "execute_result"
    }
   ],
   "source": [
    "tuples = [tuple(x) for x in X.to_numpy()]\n",
    "tuples[:5]"
   ]
  },
  {
   "cell_type": "code",
   "execution_count": 6,
   "metadata": {},
   "outputs": [],
   "source": [
    "def Link_predict(s, t, j_c):\n",
    "    if s in G and t in G:\n",
    "        \n",
    "        if not nx.has_path(G,s,t):\n",
    "            return False\n",
    "        \n",
    "        if nx.shortest_path_length(G,s,t) < 4:\n",
    "            return True\n",
    "        \n",
    "        aux = len(list(nx.common_neighbors(G,s,t)))/400\n",
    "        pred = nx.jaccard_coefficient(G, [(s, t)])\n",
    "        for _, _, p in pred:\n",
    "            return (p + aux > j_c)\n",
    "        \n",
    "    return False"
   ]
  },
  {
   "cell_type": "code",
   "execution_count": 7,
   "metadata": {},
   "outputs": [
    {
     "name": "stdout",
     "output_type": "stream",
     "text": [
      "30887 616 4620 5881\n",
      "precision 0.9051870093889487\n",
      "recall 0.5600419007713551\n",
      "f-value 0.6919637604424049\n"
     ]
    }
   ],
   "source": [
    "predictions = []\n",
    "for elem in tuples:\n",
    "    # predictions.append('P' if np.random.rand() > 0.5 else 'N')\n",
    "    if Link_predict(elem[0], elem[1], 7/300):\n",
    "        predictions.append('P')\n",
    "    else:\n",
    "        predictions.append('N')\n",
    "\n",
    "tn, fp, fn, tp = confusion_matrix(y, predictions).ravel()   \n",
    "print(tn, fp, fn, tp)\n",
    "precision = tp/(tp+fp)\n",
    "recall = tp/(tp+fn)\n",
    "    \n",
    "print(\"precision\", precision)\n",
    "print(\"recall\", recall)\n",
    "print(\"f-value\", 2*precision*recall/(precision+recall))"
   ]
  },
  {
   "cell_type": "code",
   "execution_count": 8,
   "metadata": {},
   "outputs": [
    {
     "data": {
      "text/html": [
       "<div>\n",
       "<style scoped>\n",
       "    .dataframe tbody tr th:only-of-type {\n",
       "        vertical-align: middle;\n",
       "    }\n",
       "\n",
       "    .dataframe tbody tr th {\n",
       "        vertical-align: top;\n",
       "    }\n",
       "\n",
       "    .dataframe thead th {\n",
       "        text-align: right;\n",
       "    }\n",
       "</style>\n",
       "<table border=\"1\" class=\"dataframe\">\n",
       "  <thead>\n",
       "    <tr style=\"text-align: right;\">\n",
       "      <th></th>\n",
       "      <th>source</th>\n",
       "      <th>target</th>\n",
       "      <th>prediction</th>\n",
       "    </tr>\n",
       "  </thead>\n",
       "  <tbody>\n",
       "    <tr>\n",
       "      <th>0</th>\n",
       "      <td>David J. Hawkes</td>\n",
       "      <td>A. A. J. Marley</td>\n",
       "      <td>N</td>\n",
       "    </tr>\n",
       "    <tr>\n",
       "      <th>1</th>\n",
       "      <td>Steven Feiner</td>\n",
       "      <td>A. A. J. Marley</td>\n",
       "      <td>N</td>\n",
       "    </tr>\n",
       "    <tr>\n",
       "      <th>2</th>\n",
       "      <td>Jürgen Wüst</td>\n",
       "      <td>A. A. J. Marley</td>\n",
       "      <td>N</td>\n",
       "    </tr>\n",
       "    <tr>\n",
       "      <th>3</th>\n",
       "      <td>Shlomo Shamai</td>\n",
       "      <td>A. A. J. Marley</td>\n",
       "      <td>N</td>\n",
       "    </tr>\n",
       "    <tr>\n",
       "      <th>4</th>\n",
       "      <td>Maurizio Talamo</td>\n",
       "      <td>A. A. J. Marley</td>\n",
       "      <td>N</td>\n",
       "    </tr>\n",
       "  </tbody>\n",
       "</table>\n",
       "</div>"
      ],
      "text/plain": [
       "            source           target prediction\n",
       "0  David J. Hawkes  A. A. J. Marley          N\n",
       "1    Steven Feiner  A. A. J. Marley          N\n",
       "2      Jürgen Wüst  A. A. J. Marley          N\n",
       "3    Shlomo Shamai  A. A. J. Marley          N\n",
       "4  Maurizio Talamo  A. A. J. Marley          N"
      ]
     },
     "execution_count": 8,
     "metadata": {},
     "output_type": "execute_result"
    }
   ],
   "source": [
    "respuesta = X.copy()\n",
    "respuesta['prediction'] = predictions\n",
    "respuesta.head()"
   ]
  },
  {
   "cell_type": "code",
   "execution_count": 9,
   "metadata": {},
   "outputs": [],
   "source": [
    "respuesta.to_csv('edges_prediction.csv', index=False)"
   ]
  },
  {
   "cell_type": "code",
   "execution_count": null,
   "metadata": {},
   "outputs": [],
   "source": []
  }
 ],
 "metadata": {
  "kernelspec": {
   "display_name": "Python 3",
   "language": "python",
   "name": "python3"
  },
  "language_info": {
   "codemirror_mode": {
    "name": "ipython",
    "version": 3
   },
   "file_extension": ".py",
   "mimetype": "text/x-python",
   "name": "python",
   "nbconvert_exporter": "python",
   "pygments_lexer": "ipython3",
   "version": "3.7.3"
  }
 },
 "nbformat": 4,
 "nbformat_minor": 2
}
